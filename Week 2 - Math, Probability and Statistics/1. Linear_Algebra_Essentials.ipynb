{
 "cells": [
  {
   "attachments": {},
   "cell_type": "markdown",
   "metadata": {},
   "source": [
    "1. Vectors\n",
    "Practice: Magnitude, Addition, Scalar Multiplication\n",
    "Code: Basic Operations"
   ]
  },
  {
   "cell_type": "code",
   "execution_count": 8,
   "metadata": {},
   "outputs": [
    {
     "name": "stdout",
     "output_type": "stream",
     "text": [
      "Magnitude of vector_a: 5.0\n",
      "Vector addition: [4 6]\n",
      "Scalar multiplication: [6 8]\n"
     ]
    }
   ],
   "source": [
    "import numpy as np\n",
    "\n",
    "# Define two vectors\n",
    "vector_a = np.array([3, 4])\n",
    "vector_b = np.array([1, 2])\n",
    "\n",
    "# Magnitude of vector_a\n",
    "magnitude_a = np.linalg.norm(vector_a)\n",
    "print(\"Magnitude of vector_a:\", magnitude_a)\n",
    "\n",
    "# Vector addition\n",
    "vector_sum = vector_a + vector_b\n",
    "print(\"Vector addition:\", vector_sum)\n",
    "\n",
    "# Scalar multiplication\n",
    "scalar = 2\n",
    "scaled_vector = scalar * vector_a\n",
    "print(\"Scalar multiplication:\", scaled_vector)\n"
   ]
  },
  {
   "attachments": {},
   "cell_type": "markdown",
   "metadata": {},
   "source": [
    "Visualize Vectors Visualizing vectors in 2D to understand their direction and magnitude:"
   ]
  },
  {
   "cell_type": "code",
   "execution_count": 9,
   "metadata": {},
   "outputs": [
    {
     "data": {
      "image/png": "[encoded data removed]",
      "text/plain": [
       "<Figure size 432x288 with 1 Axes>"
      ]
     },
     "metadata": {
      "needs_background": "light"
     },
     "output_type": "display_data"
    }
   ],
   "source": [
    "import matplotlib.pyplot as plt\n",
    "\n",
    "# Plot the vectors\n",
    "plt.quiver(0, 0, vector_a[0], vector_a[1], angles='xy', scale_units='xy', scale=1, color='r', label=\"vector_a\")\n",
    "plt.quiver(0, 0, vector_b[0], vector_b[1], angles='xy', scale_units='xy', scale=1, color='b', label=\"vector_b\")\n",
    "plt.quiver(0, 0, vector_sum[0], vector_sum[1], angles='xy', scale_units='xy', scale=1, color='g', label=\"vector_sum\")\n",
    "\n",
    "plt.xlim(-1, 6)\n",
    "plt.ylim(-1, 6)\n",
    "plt.grid()\n",
    "plt.legend()\n",
    "plt.show()\n"
   ]
  },
  {
   "attachments": {},
   "cell_type": "markdown",
   "metadata": {},
   "source": [
    "2. Matrices\n",
    "Practice: Basics of Addition, Subtraction, and Multiplication\n",
    "Code: Basic Matrix Operations"
   ]
  },
  {
   "cell_type": "code",
   "execution_count": 10,
   "metadata": {},
   "outputs": [
    {
     "name": "stdout",
     "output_type": "stream",
     "text": [
      "Matrix addition:\n",
      " [[3 2]\n",
      " [4 7]]\n",
      "Matrix subtraction:\n",
      " [[-1  2]\n",
      " [ 2  1]]\n",
      "Matrix multiplication:\n",
      " [[ 4  6]\n",
      " [10 12]]\n",
      "Scalar multiplication:\n",
      " [[ 3  6]\n",
      " [ 9 12]]\n"
     ]
    }
   ],
   "source": [
    "# Define two matrices\n",
    "matrix_a = np.array([[1, 2], [3, 4]])\n",
    "matrix_b = np.array([[2, 0], [1, 3]])\n",
    "\n",
    "# Matrix addition\n",
    "matrix_sum = matrix_a + matrix_b\n",
    "print(\"Matrix addition:\\n\", matrix_sum)\n",
    "\n",
    "# Matrix subtraction\n",
    "matrix_diff = matrix_a - matrix_b\n",
    "print(\"Matrix subtraction:\\n\", matrix_diff)\n",
    "\n",
    "# Matrix multiplication\n",
    "matrix_product = np.dot(matrix_a, matrix_b)\n",
    "print(\"Matrix multiplication:\\n\", matrix_product)\n",
    "\n",
    "# Scalar multiplication\n",
    "scalar = 3\n",
    "scaled_matrix = scalar * matrix_a\n",
    "print(\"Scalar multiplication:\\n\", scaled_matrix)\n"
   ]
  },
  {
   "attachments": {},
   "cell_type": "markdown",
   "metadata": {},
   "source": [
    "Visualize Matrices Matrices can be visualized as transformations applied to vectors:"
   ]
  },
  {
   "cell_type": "code",
   "execution_count": 11,
   "metadata": {},
   "outputs": [
    {
     "name": "stdout",
     "output_type": "stream",
     "text": [
      "Original vector: [1 0]\n",
      "Transformed vector: [0 1]\n"
     ]
    },
    {
     "data": {
      "image/png": "[encoded data removed]",
      "text/plain": [
       "<Figure size 432x288 with 1 Axes>"
      ]
     },
     "metadata": {
      "needs_background": "light"
     },
     "output_type": "display_data"
    }
   ],
   "source": [
    "# Transformation matrix (rotation by 90 degrees)\n",
    "transformation_matrix = np.array([[0, -1], [1, 0]])\n",
    "vector = np.array([1, 0])\n",
    "\n",
    "# Apply transformation\n",
    "transformed_vector = np.dot(transformation_matrix, vector)\n",
    "print(\"Original vector:\", vector)\n",
    "print(\"Transformed vector:\", transformed_vector)\n",
    "\n",
    "# Plot transformation\n",
    "plt.quiver(0, 0, vector[0], vector[1], angles='xy', scale_units='xy', scale=1, color='r', label=\"Original Vector\")\n",
    "plt.quiver(0, 0, transformed_vector[0], transformed_vector[1], angles='xy', scale_units='xy', scale=1, color='b', label=\"Transformed Vector\")\n",
    "\n",
    "plt.xlim(-2, 2)\n",
    "plt.ylim(-2, 2)\n",
    "plt.grid()\n",
    "plt.legend()\n",
    "plt.show()\n"
   ]
  },
  {
   "attachments": {},
   "cell_type": "markdown",
   "metadata": {},
   "source": [
    "3. Practical Applications\n",
    "Simulating a Dataset as a Matrix\n",
    "Represent a dataset where rows are data points, and columns are features:"
   ]
  },
  {
   "cell_type": "code",
   "execution_count": 12,
   "metadata": {},
   "outputs": [
    {
     "name": "stdout",
     "output_type": "stream",
     "text": [
      "Augmented dataset:\n",
      " [[2.5 3.  1. ]\n",
      " [1.5 2.2 1. ]\n",
      " [3.3 4.1 1. ]]\n"
     ]
    }
   ],
   "source": [
    "# Example dataset (3 data points, 2 features)\n",
    "dataset = np.array([[2.5, 3.0],\n",
    "                    [1.5, 2.2],\n",
    "                    [3.3, 4.1]])\n",
    "\n",
    "# Add a bias term (constant 1) to the dataset\n",
    "bias = np.ones((dataset.shape[0], 1))\n",
    "augmented_dataset = np.hstack((dataset, bias))\n",
    "print(\"Augmented dataset:\\n\", augmented_dataset)\n"
   ]
  },
  {
   "attachments": {},
   "cell_type": "markdown",
   "metadata": {},
   "source": [
    "Apply a transformation to the dataset:"
   ]
  },
  {
   "cell_type": "code",
   "execution_count": 13,
   "metadata": {},
   "outputs": [
    {
     "name": "stdout",
     "output_type": "stream",
     "text": [
      "Transformed dataset:\n",
      " [[5.   1.5 ]\n",
      " [3.   1.1 ]\n",
      " [6.6  2.05]]\n"
     ]
    }
   ],
   "source": [
    "# Transformation matrix (scaling)\n",
    "scaling_matrix = np.array([[2, 0],\n",
    "                            [0, 0.5]])\n",
    "\n",
    "# Transform dataset\n",
    "transformed_dataset = np.dot(dataset, scaling_matrix)\n",
    "print(\"Transformed dataset:\\n\", transformed_dataset)\n"
   ]
  },
  {
   "attachments": {},
   "cell_type": "markdown",
   "metadata": {},
   "source": [
    "Visualize the transformation:"
   ]
  },
  {
   "cell_type": "code",
   "execution_count": 14,
   "metadata": {},
   "outputs": [
    {
     "data": {
      "image/png": "[encoded data removed]",
      "text/plain": [
       "<Figure size 432x288 with 1 Axes>"
      ]
     },
     "metadata": {
      "needs_background": "light"
     },
     "output_type": "display_data"
    }
   ],
   "source": [
    "# Plot original and transformed datasets\n",
    "plt.scatter(dataset[:, 0], dataset[:, 1], color='blue', label=\"Original Dataset\")\n",
    "plt.scatter(transformed_dataset[:, 0], transformed_dataset[:, 1], color='red', label=\"Transformed Dataset\")\n",
    "\n",
    "plt.xlabel(\"Feature 1\")\n",
    "plt.ylabel(\"Feature 2\")\n",
    "plt.legend()\n",
    "plt.grid()\n",
    "plt.show()\n"
   ]
  }
 ],
 "metadata": {
  "kernelspec": {
   "display_name": "base",
   "language": "python",
   "name": "python3"
  },
  "language_info": {
   "codemirror_mode": {
    "name": "ipython",
    "version": 3
   },
   "file_extension": ".py",
   "mimetype": "text/x-python",
   "name": "python",
   "nbconvert_exporter": "python",
   "pygments_lexer": "ipython3",
   "version": "3.9.7"
  },
  "orig_nbformat": 4,
  "vscode": {
   "interpreter": {
    "hash": "6372d7ad47f84b464200499bc385a17623e37f47f3337789c13d7b5c6e0e767e"
   }
  }
 },
 "nbformat": 4,
 "nbformat_minor": 2
}
