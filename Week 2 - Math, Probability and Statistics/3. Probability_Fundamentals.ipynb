{
 "cells": [
  {
   "attachments": {},
   "cell_type": "markdown",
   "metadata": {},
   "source": [
    "Topics\n",
    "Basics of Probability:\n",
    "\n",
    "Marginal Probability: The probability of an event irrespective of other events, \n",
    "𝑃\n",
    "(\n",
    "𝐴\n",
    ")\n",
    "P(A).\n",
    "\n",
    "Joint Probability: The probability of two events happening together, \n",
    "𝑃\n",
    "(\n",
    "𝐴\n",
    "∩\n",
    "𝐵\n",
    ")\n",
    "P(A∩B).\n",
    "\n",
    "\n",
    "Conditional Probability: The probability of A given B has occurred, \n",
    "\n",
    "P(A∣B)= \n",
    "P(B)\n",
    "P(A∩B)\n",
    "​\n",
    " \n",
    "Bayes’ Theorem:\n",
    "\n",
    "\n",
    "P(A∣B)= \n",
    "P(B)\n",
    "P(B∣A)⋅P(A)\n",
    "​\n",
    "\n",
    " \n",
    "Used for updating probabilities based on new information.\n",
    "\n",
    "Applications in AI:\n",
    "\n",
    "Bayesian inference: Updating beliefs about a hypothesis.\n",
    "Decision-making: Spam filtering, recommendation systems, etc.\n"
   ]
  },
  {
   "cell_type": "markdown",
   "metadata": {},
   "source": []
  },
  {
   "attachments": {},
   "cell_type": "markdown",
   "metadata": {},
   "source": [
    "1: Basics of Probability\n",
    "\n",
    "A box contains 3 red balls and 2 blue balls. Two balls are drawn randomly:\n",
    "\n",
    "What is the probability that both balls are red?\n",
    "If the first ball is red, what is the probability the second is red?"
   ]
  },
  {
   "cell_type": "code",
   "execution_count": 2,
   "metadata": {},
   "outputs": [
    {
     "name": "stdout",
     "output_type": "stream",
     "text": [
      "P(both red): 0.3\n",
      "P(second red | first red): 0.5\n"
     ]
    }
   ],
   "source": [
    "# Total balls\n",
    "total_balls = 5\n",
    "red_balls = 3\n",
    "blue_balls = 2\n",
    "\n",
    "# Joint probability: Both balls red\n",
    "P_both_red = (red_balls / total_balls) * ((red_balls - 1) / (total_balls - 1))\n",
    "print(\"P(both red):\", P_both_red)\n",
    "\n",
    "# Conditional probability: Second red given first red\n",
    "P_second_red_given_first_red = (red_balls - 1) / (total_balls - 1)\n",
    "print(\"P(second red | first red):\", P_second_red_given_first_red)\n"
   ]
  },
  {
   "attachments": {},
   "cell_type": "markdown",
   "metadata": {},
   "source": [
    "2. Bayes’ Theorem\n",
    "\n",
    "A disease affects 1% of a population. A test has:\n",
    "\n",
    "99% sensitivity (true positive rate).\n",
    "95% specificity (true negative rate).\n",
    "Question: What is the probability a person has the disease if they test positive?"
   ]
  },
  {
   "cell_type": "code",
   "execution_count": 3,
   "metadata": {},
   "outputs": [
    {
     "name": "stdout",
     "output_type": "stream",
     "text": [
      "P(disease | positive): 0.16666666666666669\n"
     ]
    }
   ],
   "source": [
    "# Probabilities\n",
    "P_disease = 0.01          # Prior probability of disease\n",
    "P_no_disease = 0.99       # Prior probability of no disease\n",
    "P_positive_given_disease = 0.99  # Sensitivity\n",
    "P_positive_given_no_disease = 0.05  # False positive rate\n",
    "\n",
    "# Total probability of a positive test\n",
    "P_positive = (P_positive_given_disease * P_disease) + (P_positive_given_no_disease * P_no_disease)\n",
    "\n",
    "# Bayes' theorem\n",
    "P_disease_given_positive = (P_positive_given_disease * P_disease) / P_positive\n",
    "print(\"P(disease | positive):\", P_disease_given_positive)\n"
   ]
  },
  {
   "attachments": {},
   "cell_type": "markdown",
   "metadata": {},
   "source": [
    "3: Probability Trees\n",
    "\n",
    "Scenario:\n",
    "60% of emails are spam. Spam emails have a 90% chance of containing the word \"offer,\" while non-spam emails have a 20% chance.\n",
    "\n",
    "Question: Given an email contains \"offer,\" what is the probability it is spam?"
   ]
  },
  {
   "cell_type": "code",
   "execution_count": 4,
   "metadata": {},
   "outputs": [
    {
     "name": "stdout",
     "output_type": "stream",
     "text": [
      "P(spam | offer): 0.8709677419354838\n"
     ]
    }
   ],
   "source": [
    "# Probabilities\n",
    "P_spam = 0.6\n",
    "P_not_spam = 0.4\n",
    "P_offer_given_spam = 0.9\n",
    "P_offer_given_not_spam = 0.2\n",
    "\n",
    "# Total probability of 'offer'\n",
    "P_offer = (P_offer_given_spam * P_spam) + (P_offer_given_not_spam * P_not_spam)\n",
    "\n",
    "# Bayes' theorem\n",
    "P_spam_given_offer = (P_offer_given_spam * P_spam) / P_offer\n",
    "print(\"P(spam | offer):\", P_spam_given_offer)\n"
   ]
  },
  {
   "attachments": {},
   "cell_type": "markdown",
   "metadata": {},
   "source": [
    "4: Build a Simple Bayesian Spam Filter\n",
    "\n",
    "Task:\n",
    "Classify an email as spam or not based on words it contains"
   ]
  },
  {
   "cell_type": "code",
   "execution_count": 5,
   "metadata": {},
   "outputs": [
    {
     "name": "stdout",
     "output_type": "stream",
     "text": [
      "P(spam | email): 0.9767441860465116\n"
     ]
    }
   ],
   "source": [
    "# Probabilities of words given spam and non-spam\n",
    "word_spam_prob = {'offer': 0.8, 'win': 0.7, 'free': 0.9}\n",
    "word_not_spam_prob = {'offer': 0.2, 'win': 0.1, 'free': 0.3}\n",
    "P_spam = 0.6\n",
    "P_not_spam = 0.4\n",
    "\n",
    "# Email contains 'offer' and 'win'\n",
    "email_words = ['offer', 'win']\n",
    "\n",
    "# Compute probabilities\n",
    "P_email_given_spam = 1\n",
    "P_email_given_not_spam = 1\n",
    "\n",
    "for word in email_words:\n",
    "    P_email_given_spam *= word_spam_prob.get(word, 1)\n",
    "    P_email_given_not_spam *= word_not_spam_prob.get(word, 1)\n",
    "\n",
    "P_email = (P_email_given_spam * P_spam) + (P_email_given_not_spam * P_not_spam)\n",
    "P_spam_given_email = (P_email_given_spam * P_spam) / P_email\n",
    "\n",
    "print(\"P(spam | email):\", P_spam_given_email)\n"
   ]
  },
  {
   "cell_type": "code",
   "execution_count": null,
   "metadata": {},
   "outputs": [],
   "source": []
  }
 ],
 "metadata": {
  "kernelspec": {
   "display_name": "base",
   "language": "python",
   "name": "python3"
  },
  "language_info": {
   "codemirror_mode": {
    "name": "ipython",
    "version": 3
   },
   "file_extension": ".py",
   "mimetype": "text/x-python",
   "name": "python",
   "nbconvert_exporter": "python",
   "pygments_lexer": "ipython3",
   "version": "3.9.7"
  },
  "orig_nbformat": 4,
  "vscode": {
   "interpreter": {
    "hash": "6372d7ad47f84b464200499bc385a17623e37f47f3337789c13d7b5c6e0e767e"
   }
  }
 },
 "nbformat": 4,
 "nbformat_minor": 2
}
