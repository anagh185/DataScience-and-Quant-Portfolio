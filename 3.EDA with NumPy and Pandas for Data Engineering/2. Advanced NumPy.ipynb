{
 "cells": [
  {
   "attachments": {},
   "cell_type": "markdown",
   "metadata": {},
   "source": [
    "Mathematical and Statistical Functions\n",
    "\n",
    "NumPy provides powerful functions to perform mathematical and statistical operations efficiently.\n",
    "\n",
    "1. Mathematical Functions\n",
    "\n",
    "np.mean(): Calculates the average of array elements.\n",
    "\n",
    "np.median(): Finds the median (middle value when sorted).\n",
    "\n",
    "np.std(): Computes the standard deviation, a measure of spread."
   ]
  },
  {
   "cell_type": "code",
   "execution_count": 1,
   "metadata": {},
   "outputs": [
    {
     "name": "stdout",
     "output_type": "stream",
     "text": [
      "Mean: 5.0\n",
      "Median: 5.0\n",
      "Standard Deviation: 2.581988897471611\n"
     ]
    }
   ],
   "source": [
    "import numpy as np\n",
    "\n",
    "# Create a sample array\n",
    "data = np.array([1, 2, 3, 4, 5, 6, 7, 8, 9])\n",
    "\n",
    "# Calculate mean, median, and standard deviation\n",
    "mean_value = np.mean(data)\n",
    "median_value = np.median(data)\n",
    "std_value = np.std(data)\n",
    "\n",
    "print(\"Mean:\", mean_value)\n",
    "print(\"Median:\", median_value)\n",
    "print(\"Standard Deviation:\", std_value)\n"
   ]
  },
  {
   "attachments": {},
   "cell_type": "markdown",
   "metadata": {},
   "source": [
    "2. Matrix Operations\n",
    "\n",
    "Matrix Multiplication (np.dot() or @): Performs matrix multiplication between two arrays.\n",
    "\n",
    "Transpose (.T): Flips rows and columns.\n",
    "\n",
    "Determinant (np.linalg.det()): Finds the determinant of a matrix, useful in solving equations.\n",
    "\n",
    "Inverse (np.linalg.inv()): Calculates the matrix inverse.\n"
   ]
  },
  {
   "cell_type": "code",
   "execution_count": 2,
   "metadata": {},
   "outputs": [
    {
     "name": "stdout",
     "output_type": "stream",
     "text": [
      "Matrix Multiplication:\n",
      " [[19 22]\n",
      " [43 50]]\n",
      "Transpose:\n",
      " [[1 3]\n",
      " [2 4]]\n"
     ]
    }
   ],
   "source": [
    "# Create two matrices\n",
    "A = np.array([[1, 2], [3, 4]])\n",
    "B = np.array([[5, 6], [7, 8]])\n",
    "\n",
    "# Matrix multiplication\n",
    "result = np.dot(A, B)\n",
    "print(\"Matrix Multiplication:\\n\", result)\n",
    "\n",
    "# Transpose\n",
    "transpose = A.T\n",
    "print(\"Transpose:\\n\", transpose)\n"
   ]
  },
  {
   "attachments": {},
   "cell_type": "markdown",
   "metadata": {},
   "source": [
    "Objective: Implement matrix operations for a regression problem.\n",
    "\n",
    "Problem:\n",
    "\n",
    "Given a dataset \n",
    "\n",
    "𝑋 (independent variables) and 𝑦 (dependent variable), solve for the regression coefficients 𝛽 in the equation:\n",
    "\n",
    "Beta = (X^T X)^-1 X^T y\n",
    "\n",
    "Steps:\n",
    "\n",
    "1. Create a dataset.\n",
    "2. Calculate the regression coefficients using matrix operations.\n"
   ]
  },
  {
   "cell_type": "code",
   "execution_count": 3,
   "metadata": {},
   "outputs": [
    {
     "name": "stdout",
     "output_type": "stream",
     "text": [
      "Regression Coefficients (Beta): [2. 1.]\n"
     ]
    }
   ],
   "source": [
    "# Step 1: Create the dataset\n",
    "X = np.array([[1, 1],  # Feature 1 and bias term\n",
    "              [2, 1],\n",
    "              [3, 1],\n",
    "              [4, 1]])  # Adding a bias column\n",
    "y = np.array([3, 5, 7, 9])  # Dependent variable\n",
    "\n",
    "# Step 2: Perform matrix operations\n",
    "# Beta = (X^T X)^-1 X^T y\n",
    "X_transpose = X.T\n",
    "XTX = np.dot(X_transpose, X)\n",
    "XTX_inv = np.linalg.inv(XTX)\n",
    "XTy = np.dot(X_transpose, y)\n",
    "\n",
    "beta = np.dot(XTX_inv, XTy)\n",
    "print(\"Regression Coefficients (Beta):\", beta)\n"
   ]
  },
  {
   "attachments": {},
   "cell_type": "markdown",
   "metadata": {},
   "source": [
    "Explanation:\n",
    "\n",
    "X includes a bias term (column of 1s).\n",
    "\n",
    "y is the target vector.\n",
    "\n",
    "Using the normal equation formula, we calculate \n",
    "\n",
    "β, which represents the coefficients for the regression line.\n"
   ]
  },
  {
   "cell_type": "markdown",
   "metadata": {},
   "source": []
  }
 ],
 "metadata": {
  "kernelspec": {
   "display_name": "base",
   "language": "python",
   "name": "python3"
  },
  "language_info": {
   "codemirror_mode": {
    "name": "ipython",
    "version": 3
   },
   "file_extension": ".py",
   "mimetype": "text/x-python",
   "name": "python",
   "nbconvert_exporter": "python",
   "pygments_lexer": "ipython3",
   "version": "3.9.7"
  },
  "orig_nbformat": 4,
  "vscode": {
   "interpreter": {
    "hash": "6372d7ad47f84b464200499bc385a17623e37f47f3337789c13d7b5c6e0e767e"
   }
  }
 },
 "nbformat": 4,
 "nbformat_minor": 2
}
