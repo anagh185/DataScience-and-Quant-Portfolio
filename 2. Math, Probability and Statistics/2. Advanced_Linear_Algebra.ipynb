{
 "cells": [
  {
   "attachments": {},
   "cell_type": "markdown",
   "metadata": {},
   "source": [
    "1. Determinants\n",
    "The determinant of a matrix is a scalar value that represents certain properties of the matrix, like whether it is invertible."
   ]
  },
  {
   "cell_type": "code",
   "execution_count": 1,
   "metadata": {},
   "outputs": [
    {
     "name": "stdout",
     "output_type": "stream",
     "text": [
      "Determinant of A: 10.000000000000002\n"
     ]
    }
   ],
   "source": [
    "import numpy as np\n",
    "\n",
    "# Define a matrix\n",
    "A = np.array([[3, 2], [1, 4]])\n",
    "\n",
    "# Compute determinant\n",
    "determinant = np.linalg.det(A)\n",
    "print(\"Determinant of A:\", determinant)\n"
   ]
  },
  {
   "attachments": {},
   "cell_type": "markdown",
   "metadata": {},
   "source": [
    "2. Matrix Inverses\n",
    "The inverse of a matrix \n",
    "𝐴\n",
    "A is another matrix \n",
    "𝐴\n",
    "−\n",
    "1\n",
    "A \n",
    "−1\n",
    "  such that:\n",
    "\n",
    "A⋅A \n",
    "−1\n",
    " =I\n",
    "where \n",
    "𝐼\n",
    "I is the identity matrix.\n",
    "\n",
    "\n",
    "\n"
   ]
  },
  {
   "cell_type": "code",
   "execution_count": 2,
   "metadata": {},
   "outputs": [
    {
     "name": "stdout",
     "output_type": "stream",
     "text": [
      "Inverse of A:\n",
      " [[ 0.4 -0.2]\n",
      " [-0.1  0.3]]\n",
      "A * A^-1:\n",
      " [[1. 0.]\n",
      " [0. 1.]]\n"
     ]
    }
   ],
   "source": [
    "# Define a matrix\n",
    "A = np.array([[3, 2], [1, 4]])\n",
    "\n",
    "# Compute inverse\n",
    "inverse = np.linalg.inv(A)\n",
    "print(\"Inverse of A:\\n\", inverse)\n",
    "\n",
    "# Verify the result\n",
    "identity = np.dot(A, inverse)\n",
    "print(\"A * A^-1:\\n\", identity)\n"
   ]
  },
  {
   "cell_type": "markdown",
   "metadata": {},
   "source": []
  },
  {
   "attachments": {},
   "cell_type": "markdown",
   "metadata": {},
   "source": [
    "3. Eigenvalues and Eigenvectors\n",
    "Eigenvalues (\n",
    "𝜆\n",
    "λ) and eigenvectors (\n",
    "𝑣\n",
    "⃗\n",
    "v\n",
    " ) satisfy the equation:\n",
    "\n",
    "⃗\n",
    "A⋅ \n",
    "v\n",
    " =λ⋅ \n",
    "v\n",
    " \n",
    "Where:\n",
    "\n",
    "𝜆\n",
    "λ: Scalar (eigenvalue)\n",
    "𝑣\n",
    "⃗\n",
    "v\n",
    " : Vector (eigenvector)\n",
    "Applications in AI:\n",
    "Principal Component Analysis (PCA): Reduce dimensions while preserving variance.\n"
   ]
  },
  {
   "cell_type": "code",
   "execution_count": null,
   "metadata": {},
   "outputs": [],
   "source": [
    "# Define a matrix\n",
    "A = np.array([[3, 2], [1, 4]])\n",
    "\n",
    "# Compute eigenvalues and eigenvectors\n",
    "eigenvalues, eigenvectors = np.linalg.eig(A)\n",
    "print(\"Eigenvalues:\", eigenvalues)\n",
    "print(\"Eigenvectors:\\n\", eigenvectors)\n"
   ]
  },
  {
   "attachments": {},
   "cell_type": "markdown",
   "metadata": {},
   "source": [
    "4. Practical Applications: PCA\n",
    "Goal: Reduce the dimensions of a dataset using PCA."
   ]
  },
  {
   "cell_type": "code",
   "execution_count": 4,
   "metadata": {},
   "outputs": [
    {
     "data": {
      "image/png": "[encoded data removed]",
      "text/plain": [
       "<Figure size 432x288 with 1 Axes>"
      ]
     },
     "metadata": {
      "needs_background": "light"
     },
     "output_type": "display_data"
    }
   ],
   "source": [
    "## Simulate a Dataset:\n",
    "\n",
    "# Import libraries\n",
    "import numpy as np\n",
    "import matplotlib.pyplot as plt\n",
    "\n",
    "# Create a dataset (100 points with 2 features)\n",
    "np.random.seed(42)\n",
    "data = np.random.multivariate_normal(mean=[5, 10], cov=[[3, 2], [2, 4]], size=100)\n",
    "\n",
    "# Visualize dataset\n",
    "plt.scatter(data[:, 0], data[:, 1], color='blue', alpha=0.6, label=\"Original Data\")\n",
    "plt.xlabel(\"Feature 1\")\n",
    "plt.ylabel(\"Feature 2\")\n",
    "plt.grid()\n",
    "plt.legend()\n",
    "plt.show()\n"
   ]
  },
  {
   "cell_type": "markdown",
   "metadata": {},
   "source": []
  },
  {
   "cell_type": "code",
   "execution_count": 5,
   "metadata": {},
   "outputs": [
    {
     "data": {
      "image/png": "[encoded data removed]",
      "text/plain": [
       "<Figure size 432x288 with 1 Axes>"
      ]
     },
     "metadata": {
      "needs_background": "light"
     },
     "output_type": "display_data"
    }
   ],
   "source": [
    "## Apply PCA\n",
    "\n",
    "\n",
    "# Center the data\n",
    "mean = np.mean(data, axis=0)\n",
    "centered_data = data - mean\n",
    "\n",
    "# Compute covariance matrix\n",
    "covariance_matrix = np.cov(centered_data.T)\n",
    "\n",
    "# Compute eigenvalues and eigenvectors\n",
    "eigenvalues, eigenvectors = np.linalg.eig(covariance_matrix)\n",
    "\n",
    "# Sort eigenvectors by eigenvalues (descending)\n",
    "idx = np.argsort(eigenvalues)[::-1]\n",
    "eigenvectors = eigenvectors[:, idx]\n",
    "\n",
    "# Project data onto the principal components\n",
    "reduced_data = np.dot(centered_data, eigenvectors[:, :1])  # Reduce to 1D\n",
    "\n",
    "# Visualize transformed data\n",
    "plt.scatter(reduced_data, np.zeros_like(reduced_data), color='red', alpha=0.6, label=\"Reduced Data (1D)\")\n",
    "plt.xlabel(\"Principal Component 1\")\n",
    "plt.grid()\n",
    "plt.legend()\n",
    "plt.show()\n"
   ]
  },
  {
   "cell_type": "code",
   "execution_count": null,
   "metadata": {},
   "outputs": [],
   "source": []
  }
 ],
 "metadata": {
  "kernelspec": {
   "display_name": "base",
   "language": "python",
   "name": "python3"
  },
  "language_info": {
   "codemirror_mode": {
    "name": "ipython",
    "version": 3
   },
   "file_extension": ".py",
   "mimetype": "text/x-python",
   "name": "python",
   "nbconvert_exporter": "python",
   "pygments_lexer": "ipython3",
   "version": "3.9.7"
  },
  "orig_nbformat": 4,
  "vscode": {
   "interpreter": {
    "hash": "6372d7ad47f84b464200499bc385a17623e37f47f3337789c13d7b5c6e0e767e"
   }
  }
 },
 "nbformat": 4,
 "nbformat_minor": 2
}
