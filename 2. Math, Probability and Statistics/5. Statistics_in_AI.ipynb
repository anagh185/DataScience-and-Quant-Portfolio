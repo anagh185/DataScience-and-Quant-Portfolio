{
 "cells": [
  {
   "attachments": {},
   "cell_type": "markdown",
   "metadata": {},
   "source": [
    "1. Covariance and Correlation\n",
    "\n",
    "Covariance\n",
    "\n",
    "Definition: Covariance measures how two variables change together.\n",
    "\n",
    "\n",
    "Positive Covariance: When one variable increases, the other tends to increase too.\n",
    "\n",
    "Negative Covariance: When one variable increases, the other tends to decrease.\n",
    "\n",
    "Example:\n",
    "\n",
    "If students study more hours and score higher marks, study hours and exam scores have positive covariance.\n",
    "\n",
    "If temperature increases and sweater sales decrease, temperature and sweater sales have negative covariance.\n"
   ]
  },
  {
   "attachments": {},
   "cell_type": "markdown",
   "metadata": {},
   "source": [
    "Correlation\n",
    "\n",
    "Definition: Correlation standardizes covariance to a value between \n",
    "−\n",
    "1\n",
    "−1 and \n",
    "1\n",
    "1 for easier interpretation.\n",
    "\n",
    "\n",
    "Correlation = 1: Strong positive relationship.\n",
    "\n",
    "Correlation = -1: Strong negative relationship.\n",
    "\n",
    "Correlation = 0: No relationship.\n",
    "\n",
    "Example:\n",
    "\n",
    "Correlation between height and weight might be 0.85, indicating a strong positive relationship."
   ]
  },
  {
   "cell_type": "code",
   "execution_count": 2,
   "metadata": {},
   "outputs": [
    {
     "name": "stdout",
     "output_type": "stream",
     "text": [
      "Covariance Matrix:\n",
      "              Study Hours  Exam Scores\n",
      "Study Hours          2.5         12.5\n",
      "Exam Scores         12.5         62.5\n",
      "\n",
      "Correlation Matrix:\n",
      "              Study Hours  Exam Scores\n",
      "Study Hours          1.0          1.0\n",
      "Exam Scores          1.0          1.0\n"
     ]
    }
   ],
   "source": [
    "import pandas as pd\n",
    "\n",
    "# Sample dataset\n",
    "data = {\n",
    "    \"Study Hours\": [2, 3, 4, 5, 6],\n",
    "    \"Exam Scores\": [50, 55, 60, 65, 70]\n",
    "}\n",
    "df = pd.DataFrame(data)\n",
    "\n",
    "# Covariance\n",
    "cov_matrix = df.cov()\n",
    "print(\"Covariance Matrix:\\n\", cov_matrix)\n",
    "\n",
    "# Correlation\n",
    "correlation_matrix = df.corr()\n",
    "print(\"\\nCorrelation Matrix:\\n\", correlation_matrix)\n"
   ]
  },
  {
   "attachments": {},
   "cell_type": "markdown",
   "metadata": {},
   "source": [
    "2. Descriptive Statistics\n",
    "Descriptive statistics summarize the main features of a dataset.\n",
    "\n",
    "Central Tendency\n",
    "\n",
    "Mean: The average of all data points.\n",
    "\n",
    "Example: Exam scores [50,60,70]. Mean = (50 + 60 + 70) / 3 = 60\n",
    "\n",
    "Median: The middle value when data is sorted.\n",
    "\n",
    "Example: [50,60,70]. Median = 60\n",
    "\n",
    "If even number of values: Median is the average of the two middle values.\n",
    "\n",
    "Mode: The most frequent value.\n",
    "\n",
    "Example: [50,60,60,70]. Mode = 60\n"
   ]
  },
  {
   "cell_type": "code",
   "execution_count": 3,
   "metadata": {},
   "outputs": [
    {
     "name": "stdout",
     "output_type": "stream",
     "text": [
      "Mean: 60.0\n",
      "Median: 60.0\n",
      "Mode: 50\n"
     ]
    }
   ],
   "source": [
    "# Central Tendency\n",
    "mean = df[\"Exam Scores\"].mean()\n",
    "median = df[\"Exam Scores\"].median()\n",
    "mode = df[\"Exam Scores\"].mode()[0]\n",
    "\n",
    "print(\"Mean:\", mean)\n",
    "print(\"Median:\", median)\n",
    "print(\"Mode:\", mode)\n"
   ]
  },
  {
   "attachments": {},
   "cell_type": "markdown",
   "metadata": {},
   "source": [
    "Variability\n",
    "\n",
    "Range: The difference between the highest and lowest values.\n",
    "\n",
    "Example: [50,60,70]. Range = 70−50=20.\n",
    "\n",
    "Variance: The average squared deviation from the mean.\n",
    "\n",
    "Standard Deviation: The square root of the variance.\n",
    "\n",
    "Provides a measure of the spread of data around the mean.\n",
    "\n",
    "Example: If exam scores have a standard deviation of 5, most scores are within 5 points of the mean."
   ]
  },
  {
   "cell_type": "code",
   "execution_count": 4,
   "metadata": {},
   "outputs": [
    {
     "name": "stdout",
     "output_type": "stream",
     "text": [
      "Variance: 62.5\n",
      "Standard Deviation: 7.905694150420948\n"
     ]
    }
   ],
   "source": [
    "# Variability\n",
    "variance = df[\"Exam Scores\"].var()\n",
    "std_dev = df[\"Exam Scores\"].std()\n",
    "\n",
    "print(\"Variance:\", variance)\n",
    "print(\"Standard Deviation:\", std_dev)\n"
   ]
  },
  {
   "attachments": {},
   "cell_type": "markdown",
   "metadata": {},
   "source": [
    "3. Inferential Statistics\n",
    "Inferential statistics allow us to make generalizations or test hypotheses using sample data.\n",
    "\n",
    "Hypothesis Testing\n",
    "\n",
    "Definition: A statistical method to determine if there is enough evidence to support a claim.\n",
    "\n",
    "Example:\n",
    "\n",
    "\n",
    "Claim: Students who study more than 4 hours score higher than 60.\n",
    "\n",
    "Null Hypothesis (H0): There is no significant difference (mean = 60).\n",
    "\n",
    "Alternative Hypothesis (H1): Mean > 60.\n",
    "T-Test: Used to compare a sample mean with a population mean.\n",
    "\n",
    "Output:\n",
    "\n",
    "T-Statistic: Measures the difference between sample and population mean in units of standard error.\n",
    "\n",
    "P-Value: The probability of observing the result if the null hypothesis is true.\n",
    "\n",
    "Decision: If P<0.05, reject H0\n"
   ]
  },
  {
   "cell_type": "code",
   "execution_count": 5,
   "metadata": {},
   "outputs": [
    {
     "name": "stdout",
     "output_type": "stream",
     "text": [
      "T-Statistic: 3.0\n",
      "P-Value: 0.20483276469913345\n",
      "Fail to reject the null hypothesis: No significant difference.\n"
     ]
    }
   ],
   "source": [
    "from scipy.stats import ttest_1samp\n",
    "\n",
    "# Filter data for students studying more than 4 hours\n",
    "study_above_4 = df[df[\"Study Hours\"] > 4][\"Exam Scores\"]\n",
    "\n",
    "# Perform one-sample t-test\n",
    "t_stat, p_value = ttest_1samp(study_above_4, 60)\n",
    "print(\"T-Statistic:\", t_stat)\n",
    "print(\"P-Value:\", p_value)\n",
    "\n",
    "# Decision\n",
    "alpha = 0.05  # Significance level\n",
    "if p_value < alpha:\n",
    "    print(\"Reject the null hypothesis: Students studying >4 hours score significantly higher than 60.\")\n",
    "else:\n",
    "    print(\"Fail to reject the null hypothesis: No significant difference.\")\n"
   ]
  },
  {
   "attachments": {},
   "cell_type": "markdown",
   "metadata": {},
   "source": [
    "Confidence Intervals\n",
    "Definition: A range of values that likely contains the true population mean.\n",
    "\n",
    "Example: A 95% confidence interval of (58,62) means there is a 95% chance that the true mean lies between 58 and 62.\n"
   ]
  },
  {
   "cell_type": "code",
   "execution_count": 6,
   "metadata": {},
   "outputs": [
    {
     "name": "stdout",
     "output_type": "stream",
     "text": [
      "95% Confidence Interval: (50.183784192612194, 69.8162158073878)\n"
     ]
    }
   ],
   "source": [
    "import scipy.stats as stats\n",
    "\n",
    "# Data\n",
    "scores = df[\"Exam Scores\"]\n",
    "mean_score = scores.mean()\n",
    "std_error = stats.sem(scores)  # Standard error of the mean\n",
    "\n",
    "# Confidence interval\n",
    "confidence_level = 0.95\n",
    "confidence_interval = stats.t.interval(confidence_level, len(scores)-1, loc=mean_score, scale=std_error)\n",
    "print(f\"95% Confidence Interval: {confidence_interval}\")\n"
   ]
  },
  {
   "cell_type": "code",
   "execution_count": 7,
   "metadata": {},
   "outputs": [
    {
     "name": "stdout",
     "output_type": "stream",
     "text": [
      "Covariance Matrix:\n",
      "              Study Hours  Exam Scores\n",
      "Study Hours          2.5         12.5\n",
      "Exam Scores         12.5         62.5\n",
      "Correlation Matrix:\n",
      "              Study Hours  Exam Scores\n",
      "Study Hours          1.0          1.0\n",
      "Exam Scores          1.0          1.0\n",
      "Mean: 60.0\n",
      "Median: 60.0\n",
      "Mode: 50\n",
      "Variance: 62.5\n",
      "Standard Deviation: 7.905694150420948\n",
      "T-Statistic: 3.0\n",
      "P-Value: 0.20483276469913345\n",
      "95% Confidence Interval: (50.183784192612194, 69.8162158073878)\n"
     ]
    }
   ],
   "source": [
    "import pandas as pd\n",
    "from scipy.stats import ttest_1samp, sem\n",
    "import scipy.stats as stats\n",
    "\n",
    "# Sample dataset\n",
    "data = {\n",
    "    \"Study Hours\": [2, 3, 4, 5, 6],\n",
    "    \"Exam Scores\": [50, 55, 60, 65, 70]\n",
    "}\n",
    "df = pd.DataFrame(data)\n",
    "\n",
    "# Covariance and Correlation\n",
    "cov_matrix = df.cov()\n",
    "correlation_matrix = df.corr()\n",
    "\n",
    "# Descriptive Statistics\n",
    "mean = df[\"Exam Scores\"].mean()\n",
    "median = df[\"Exam Scores\"].median()\n",
    "mode = df[\"Exam Scores\"].mode()[0]\n",
    "variance = df[\"Exam Scores\"].var()\n",
    "std_dev = df[\"Exam Scores\"].std()\n",
    "\n",
    "# Hypothesis Testing\n",
    "study_above_4 = df[df[\"Study Hours\"] > 4][\"Exam Scores\"]\n",
    "t_stat, p_value = ttest_1samp(study_above_4, 60)\n",
    "\n",
    "# Confidence Interval\n",
    "mean_score = df[\"Exam Scores\"].mean()\n",
    "std_error = sem(df[\"Exam Scores\"])\n",
    "confidence_interval = stats.t.interval(0.95, len(df[\"Exam Scores\"])-1, loc=mean_score, scale=std_error)\n",
    "\n",
    "# Results\n",
    "print(\"Covariance Matrix:\\n\", cov_matrix)\n",
    "print(\"Correlation Matrix:\\n\", correlation_matrix)\n",
    "print(\"Mean:\", mean)\n",
    "print(\"Median:\", median)\n",
    "print(\"Mode:\", mode)\n",
    "print(\"Variance:\", variance)\n",
    "print(\"Standard Deviation:\", std_dev)\n",
    "print(\"T-Statistic:\", t_stat)\n",
    "print(\"P-Value:\", p_value)\n",
    "print(f\"95% Confidence Interval: {confidence_interval}\")\n"
   ]
  },
  {
   "cell_type": "code",
   "execution_count": null,
   "metadata": {},
   "outputs": [],
   "source": []
  }
 ],
 "metadata": {
  "kernelspec": {
   "display_name": "base",
   "language": "python",
   "name": "python3"
  },
  "language_info": {
   "codemirror_mode": {
    "name": "ipython",
    "version": 3
   },
   "file_extension": ".py",
   "mimetype": "text/x-python",
   "name": "python",
   "nbconvert_exporter": "python",
   "pygments_lexer": "ipython3",
   "version": "3.9.7"
  },
  "orig_nbformat": 4,
  "vscode": {
   "interpreter": {
    "hash": "6372d7ad47f84b464200499bc385a17623e37f47f3337789c13d7b5c6e0e767e"
   }
  }
 },
 "nbformat": 4,
 "nbformat_minor": 2
}
