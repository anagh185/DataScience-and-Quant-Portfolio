{
 "cells": [
  {
   "attachments": {},
   "cell_type": "markdown",
   "metadata": {},
   "source": [
    "1. Gradient Descent\n",
    "\n",
    "1.1 Fundamentals\n",
    "Gradient Descent is an iterative optimization technique to minimize a cost function J(θ).\n",
    "\n",
    "Key Steps:\n",
    "\n",
    "Initialize Parameters: Start with random or arbitrary values for the parameters to be optimized (e.g., θ).\n",
    "\n",
    "Compute Gradient: Calculate the gradient of the cost function with respect to the parameters. The gradient tells us the direction of steepest ascent.\n",
    "\n",
    "Update Parameters: Move the parameters in the opposite direction of the gradient to reduce the cost:\n",
    "\n",
    "θ=θ−α⋅ ∂J(θ)/∂θ\n",
    "\n",
    "α: Learning rate (step size).\n",
    "\n",
    "Repeat: Iterate until the change in the cost function is small or a maximum number of iterations is reached.\n",
    "\n"
   ]
  },
  {
   "attachments": {},
   "cell_type": "markdown",
   "metadata": {},
   "source": [
    "1.2 Variants of Gradient Descent\n",
    "\n",
    "Batch Gradient Descent:Uses the entire dataset to compute the gradient.\n",
    "\n",
    "Pro: Stable convergence.\n",
    "\n",
    "Con: Computationally expensive for large datasets.\n",
    "\n",
    "\n",
    "Stochastic Gradient Descent (SGD):Uses a single data point to compute the gradient.\n",
    "\n",
    "Pro: Faster updates.\n",
    "\n",
    "Con: Noisy updates can cause oscillations around the minimum.\n",
    "\n",
    "\n",
    "Mini-Batch Gradient Descent:Uses small subsets (batches) of the data to compute the gradient.\n",
    "\n",
    "Pro: Balances speed and stability.\n",
    "\n",
    "Commonly used in modern machine learning.\n"
   ]
  },
  {
   "cell_type": "code",
   "execution_count": 2,
   "metadata": {},
   "outputs": [
    {
     "name": "stdout",
     "output_type": "stream",
     "text": [
      "Optimized x: 0.00014272476927059603\n"
     ]
    },
    {
     "data": {
      "image/png": "[encoded data removed]",
      "text/plain": [
       "<Figure size 432x288 with 1 Axes>"
      ]
     },
     "metadata": {
      "needs_background": "light"
     },
     "output_type": "display_data"
    }
   ],
   "source": [
    "import numpy as np\n",
    "import matplotlib.pyplot as plt\n",
    "\n",
    "# Function to minimize\n",
    "def cost_function(x):\n",
    "    return x**2\n",
    "\n",
    "# Gradient of the function\n",
    "def gradient(x):\n",
    "    return 2 * x\n",
    "\n",
    "# Gradient Descent Implementation\n",
    "def gradient_descent(start_x, learning_rate, iterations):\n",
    "    x = start_x\n",
    "    history = [x]  # Track the value of x over iterations\n",
    "    \n",
    "    for _ in range(iterations):\n",
    "        grad = gradient(x)  # Compute gradient\n",
    "        x = x - learning_rate * grad  # Update x\n",
    "        history.append(x)\n",
    "    \n",
    "    return x, history\n",
    "\n",
    "# Parameters\n",
    "start_x = 10  # Initial guess\n",
    "learning_rate = 0.1  # Step size\n",
    "iterations = 50  # Number of iterations\n",
    "\n",
    "# Run Gradient Descent\n",
    "final_x, history = gradient_descent(start_x, learning_rate, iterations)\n",
    "print(\"Optimized x:\", final_x)\n",
    "\n",
    "# Plot Convergence\n",
    "plt.plot(history)\n",
    "plt.title(\"Convergence of Gradient Descent\")\n",
    "plt.xlabel(\"Iterations\")\n",
    "plt.ylabel(\"x Value\")\n",
    "plt.grid()\n",
    "plt.show()\n"
   ]
  },
  {
   "attachments": {},
   "cell_type": "markdown",
   "metadata": {},
   "source": [
    "1.4 Observations\n",
    "\n",
    "The plot shows how x moves closer to 0, the minimum of f(x)=x ** 2\n",
    "\n",
    "The learning rate (α) determines the step size:\n",
    "\n",
    "If too small: Slow convergence.\n",
    "\n",
    "If too large: Overshooting or divergence."
   ]
  },
  {
   "attachments": {},
   "cell_type": "markdown",
   "metadata": {},
   "source": [
    "2. Regularization\n",
    "\n",
    "\n",
    "2.1 Why Regularization?\n",
    "\n",
    "In machine learning, models can overfit the training data, leading to poor generalization on unseen data. Regularization penalizes large weights, making the model simpler and less prone to overfitting."
   ]
  },
  {
   "attachments": {},
   "cell_type": "markdown",
   "metadata": {},
   "source": [
    "2.2 Types of Regularization\n",
    "\n",
    "L1 Regularization (Lasso):\n",
    "\n",
    "Adds the sum of the absolute values of the coefficients to the loss function:\n",
    "\n",
    "J(θ) = Loss + 𝜆⋅∑∣𝜃𝑖∣\n",
    "\n",
    "Encourages sparsity by driving some coefficients to zero.\n",
    "\n",
    "Useful for feature selection.\n",
    "\n",
    "L2 Regularization (Ridge):\n",
    "\n",
    "Adds the sum of the squared coefficients to the loss function:\n",
    "\n",
    "J(θ)=Loss+λ⋅∑θ i**2\n",
    "​\n",
    " \n",
    "Shrinks weights but doesn’t make them zero.\n",
    "\n",
    "Useful for reducing the magnitude of coefficients."
   ]
  },
  {
   "cell_type": "code",
   "execution_count": 3,
   "metadata": {},
   "outputs": [
    {
     "name": "stdout",
     "output_type": "stream",
     "text": [
      "Ridge Coefficients: [ 1.29638394 -1.7934596   0.02295476  0.05337212  0.40296375]\n",
      "Lasso Coefficients: [ 0.43275758 -1.06835263 -0.          0.          0.        ]\n",
      "Ridge MSE: 0.025791055098657235\n",
      "Lasso MSE: 0.2881444537118041\n"
     ]
    }
   ],
   "source": [
    "from sklearn.linear_model import Ridge, Lasso\n",
    "from sklearn.model_selection import train_test_split\n",
    "from sklearn.metrics import mean_squared_error\n",
    "import numpy as np\n",
    "\n",
    "# Generate synthetic dataset\n",
    "np.random.seed(42)\n",
    "X = np.random.rand(100, 5)  # 100 samples, 5 features\n",
    "true_coeffs = np.array([1.5, -2.0, 0.0, 0.0, 0.5])  # Sparse coefficients\n",
    "y = X @ true_coeffs + np.random.randn(100) * 0.1  # Add noise\n",
    "\n",
    "# Split into training and testing sets\n",
    "X_train, X_test, y_train, y_test = train_test_split(X, y, test_size=0.2, random_state=42)\n",
    "\n",
    "# Ridge Regression (L2 Regularization)\n",
    "ridge = Ridge(alpha=1.0)  # Regularization strength\n",
    "ridge.fit(X_train, y_train)\n",
    "ridge_preds = ridge.predict(X_test)\n",
    "ridge_mse = mean_squared_error(y_test, ridge_preds)\n",
    "\n",
    "# Lasso Regression (L1 Regularization)\n",
    "lasso = Lasso(alpha=0.1)  # Regularization strength\n",
    "lasso.fit(X_train, y_train)\n",
    "lasso_preds = lasso.predict(X_test)\n",
    "lasso_mse = mean_squared_error(y_test, lasso_preds)\n",
    "\n",
    "# Print results\n",
    "print(\"Ridge Coefficients:\", ridge.coef_)\n",
    "print(\"Lasso Coefficients:\", lasso.coef_)\n",
    "print(\"Ridge MSE:\", ridge_mse)\n",
    "print(\"Lasso MSE:\", lasso_mse)\n"
   ]
  },
  {
   "attachments": {},
   "cell_type": "markdown",
   "metadata": {},
   "source": [
    "2.4 Observations\n",
    "\n",
    "Ridge (L2 Regularization):\n",
    "\n",
    "Shrinks coefficients uniformly, but keeps all features. Suitable when all features are useful.\n",
    "\n",
    "Lasso (L1 Regularization):\n",
    "\n",
    "Drives some coefficients to zero, effectively selecting features. Suitable for sparse models where some features are irrelevant."
   ]
  },
  {
   "cell_type": "markdown",
   "metadata": {},
   "source": []
  }
 ],
 "metadata": {
  "kernelspec": {
   "display_name": "base",
   "language": "python",
   "name": "python3"
  },
  "language_info": {
   "codemirror_mode": {
    "name": "ipython",
    "version": 3
   },
   "file_extension": ".py",
   "mimetype": "text/x-python",
   "name": "python",
   "nbconvert_exporter": "python",
   "pygments_lexer": "ipython3",
   "version": "3.9.7"
  },
  "orig_nbformat": 4,
  "vscode": {
   "interpreter": {
    "hash": "6372d7ad47f84b464200499bc385a17623e37f47f3337789c13d7b5c6e0e767e"
   }
  }
 },
 "nbformat": 4,
 "nbformat_minor": 2
}
