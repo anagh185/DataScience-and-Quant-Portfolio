{
 "cells": [
  {
   "attachments": {},
   "cell_type": "markdown",
   "metadata": {},
   "source": [
    "1. Array Creation\n",
    "\n",
    "NumPy arrays can be created using np.array() or built-in functions like np.zeros(), np.ones(), np.arange(), and more."
   ]
  },
  {
   "cell_type": "code",
   "execution_count": 1,
   "metadata": {},
   "outputs": [
    {
     "name": "stdout",
     "output_type": "stream",
     "text": [
      "1D Array: [1 2 3 4 5]\n",
      "2D Array:\n",
      " [[1 2 3]\n",
      " [4 5 6]]\n"
     ]
    }
   ],
   "source": [
    "import numpy as np\n",
    "\n",
    "# Creating a 1D array\n",
    "arr1 = np.array([1, 2, 3, 4, 5])\n",
    "print(\"1D Array:\", arr1)\n",
    "\n",
    "# Creating a 2D array\n",
    "arr2 = np.array([[1, 2, 3], [4, 5, 6]])\n",
    "print(\"2D Array:\\n\", arr2)\n"
   ]
  },
  {
   "attachments": {},
   "cell_type": "markdown",
   "metadata": {},
   "source": [
    "2. Reshaping\n",
    "\n",
    "Reshaping changes the dimensions of an array using reshape(). The total number of elements must remain constant."
   ]
  },
  {
   "cell_type": "code",
   "execution_count": 2,
   "metadata": {},
   "outputs": [
    {
     "name": "stdout",
     "output_type": "stream",
     "text": [
      "Reshaped to 2D:\n",
      " [[1 2 3 4 5]]\n",
      "Reshaped to 3x2:\n",
      " [[1 2]\n",
      " [3 4]\n",
      " [5 6]]\n"
     ]
    }
   ],
   "source": [
    "\n",
    "# Reshape 1D to 2D\n",
    "\n",
    "reshaped = arr1.reshape(1, 5)\n",
    "print(\"Reshaped to 2D:\\n\", reshaped)\n",
    "\n",
    "# Reshape 2D to 3x2\n",
    "reshaped_2 = arr2.reshape(3, 2)\n",
    "print(\"Reshaped to 3x2:\\n\", reshaped_2)\n"
   ]
  },
  {
   "attachments": {},
   "cell_type": "markdown",
   "metadata": {},
   "source": [
    "3. Indexing and Slicing\n",
    "\n",
    "Access specific elements or slices of an array using indexes. Slicing uses : to define ranges."
   ]
  },
  {
   "cell_type": "code",
   "execution_count": 3,
   "metadata": {},
   "outputs": [
    {
     "name": "stdout",
     "output_type": "stream",
     "text": [
      "Element at (0,1): 2\n",
      "Slice (all rows, second column): [2 5]\n"
     ]
    }
   ],
   "source": [
    "# Indexing\n",
    "element = arr2[0, 1]  # Element at row 0, column 1\n",
    "print(\"Element at (0,1):\", element)\n",
    "\n",
    "# Slicing\n",
    "slice_ = arr2[:, 1]  # All rows, second column\n",
    "print(\"Slice (all rows, second column):\", slice_)\n"
   ]
  },
  {
   "attachments": {},
   "cell_type": "markdown",
   "metadata": {},
   "source": [
    "4. Filtering\n",
    "\n",
    "Apply boolean conditions to extract elements."
   ]
  },
  {
   "cell_type": "code",
   "execution_count": 4,
   "metadata": {},
   "outputs": [
    {
     "name": "stdout",
     "output_type": "stream",
     "text": [
      "Filtered (greater than 3): [4 5 6]\n"
     ]
    }
   ],
   "source": [
    "arr = np.array([1, 2, 3, 4, 5, 6])\n",
    "filtered = arr[arr > 3]  # Filter elements greater than 3\n",
    "print(\"Filtered (greater than 3):\", filtered)\n"
   ]
  },
  {
   "attachments": {},
   "cell_type": "markdown",
   "metadata": {},
   "source": [
    "5. Element-wise Operations\n",
    "\n",
    "Perform arithmetic operations directly on arrays."
   ]
  },
  {
   "cell_type": "code",
   "execution_count": 5,
   "metadata": {},
   "outputs": [
    {
     "name": "stdout",
     "output_type": "stream",
     "text": [
      "Addition Result: [5 7 9]\n",
      "Multiplication Result: [ 4 10 18]\n"
     ]
    }
   ],
   "source": [
    "arr1 = np.array([1, 2, 3])\n",
    "arr2 = np.array([4, 5, 6])\n",
    "\n",
    "# Element-wise addition and multiplication\n",
    "add_result = arr1 + arr2\n",
    "mult_result = arr1 * arr2\n",
    "\n",
    "print(\"Addition Result:\", add_result)\n",
    "print(\"Multiplication Result:\", mult_result)\n"
   ]
  },
  {
   "attachments": {},
   "cell_type": "markdown",
   "metadata": {},
   "source": [
    "6. Aggregate Functions\n",
    "\n",
    "Summarize data with functions like np.sum(), np.mean(), np.min(), etc."
   ]
  },
  {
   "cell_type": "code",
   "execution_count": 6,
   "metadata": {},
   "outputs": [
    {
     "name": "stdout",
     "output_type": "stream",
     "text": [
      "Total Sum: 10\n",
      "Row Sums: [3 7]\n"
     ]
    }
   ],
   "source": [
    "matrix = np.array([[1, 2], [3, 4]])\n",
    "\n",
    "# Sum and mean\n",
    "total_sum = np.sum(matrix)\n",
    "row_sum = np.sum(matrix, axis=1)  # Sum across rows\n",
    "\n",
    "print(\"Total Sum:\", total_sum)\n",
    "print(\"Row Sums:\", row_sum)\n"
   ]
  },
  {
   "attachments": {},
   "cell_type": "markdown",
   "metadata": {},
   "source": [
    "7. Comparison Operations\n",
    "\n",
    "Compare arrays element-wise and generate boolean arrays."
   ]
  },
  {
   "cell_type": "code",
   "execution_count": 7,
   "metadata": {},
   "outputs": [
    {
     "name": "stdout",
     "output_type": "stream",
     "text": [
      "Comparison (greater than 15): [False  True  True]\n"
     ]
    }
   ],
   "source": [
    "arr = np.array([10, 20, 30])\n",
    "comparison = arr > 15\n",
    "print(\"Comparison (greater than 15):\", comparison)\n"
   ]
  },
  {
   "attachments": {},
   "cell_type": "markdown",
   "metadata": {},
   "source": [
    "Broadcasting\n",
    "Broadcasting allows operations on arrays of different shapes, aligning smaller arrays to larger ones.\n",
    "\n",
    "1. Understanding Broadcasting\n",
    "Smaller arrays are \"stretched\" to match larger arrays for operations."
   ]
  },
  {
   "cell_type": "code",
   "execution_count": 8,
   "metadata": {},
   "outputs": [
    {
     "name": "stdout",
     "output_type": "stream",
     "text": [
      "Broadcasted Addition:\n",
      " [[5 6 7]\n",
      " [6 7 8]\n",
      " [7 8 9]]\n"
     ]
    }
   ],
   "source": [
    "arr1 = np.array([[1], [2], [3]])  # Shape (3, 1)\n",
    "arr2 = np.array([4, 5, 6])       # Shape (3,)\n",
    "\n",
    "result = arr1 + arr2  # Broadcasting\n",
    "print(\"Broadcasted Addition:\\n\", result)\n"
   ]
  },
  {
   "attachments": {},
   "cell_type": "markdown",
   "metadata": {},
   "source": [
    "Real-world Example\n",
    "\n",
    "Apply normalization (subtract mean) to a dataset using broadcasting.\n",
    "\n"
   ]
  },
  {
   "cell_type": "code",
   "execution_count": 9,
   "metadata": {},
   "outputs": [
    {
     "name": "stdout",
     "output_type": "stream",
     "text": [
      "Original Data:\n",
      " [[1 2 3]\n",
      " [4 5 6]]\n",
      "Mean of Columns: [2.5 3.5 4.5]\n",
      "Normalized Data:\n",
      " [[-1.5 -1.5 -1.5]\n",
      " [ 1.5  1.5  1.5]]\n"
     ]
    }
   ],
   "source": [
    "data = np.array([[1, 2, 3], [4, 5, 6]])\n",
    "\n",
    "# Subtract the mean of each column\n",
    "mean = np.mean(data, axis=0)\n",
    "normalized_data = data - mean\n",
    "\n",
    "print(\"Original Data:\\n\", data)\n",
    "print(\"Mean of Columns:\", mean)\n",
    "print(\"Normalized Data:\\n\", normalized_data)\n"
   ]
  },
  {
   "attachments": {},
   "cell_type": "markdown",
   "metadata": {},
   "source": [
    "Exercises to Solidify Learning\n",
    "Create a 3x3 matrix of random integers and:\n",
    "\n",
    "Extract the diagonal elements.\n",
    "Find the mean of each row.\n",
    "Normalize a 4x4 matrix by subtracting its mean and dividing by its standard deviation.\n",
    "\n",
    "Create a 2D array (shape 3x3) and broadcast a 1D array (shape 3,) to add it.\n",
    "\n",
    "By practicing and reviewing these examples and exercises, you'll build a strong understanding of NumPy basics and be ready for advanced topics."
   ]
  },
  {
   "cell_type": "code",
   "execution_count": 10,
   "metadata": {},
   "outputs": [
    {
     "name": "stdout",
     "output_type": "stream",
     "text": [
      "3x3 Matrix:\n",
      " [[10  9  1]\n",
      " [ 4  6  6]\n",
      " [10  1  3]]\n",
      "Diagonal Elements: [10  6  3]\n",
      "Mean of Each Row: [6.66666667 5.33333333 4.66666667]\n",
      "Original 4x4 Matrix:\n",
      " [[15  2  7  8]\n",
      " [14 14 12  3]\n",
      " [18 14 16  1]\n",
      " [15 15  3 15]]\n",
      "Normalized 4x4 Matrix:\n",
      " [[ 0.76102452 -1.56681518 -0.67149222 -0.49242763]\n",
      " [ 0.58195993  0.58195993  0.22383074 -1.38775059]\n",
      " [ 1.2982183   0.58195993  0.94008911 -1.74587978]\n",
      " [ 0.76102452  0.76102452 -1.38775059  0.76102452]]\n",
      "2D Array (3x3):\n",
      " [[1 2 3]\n",
      " [4 5 6]\n",
      " [7 8 9]]\n",
      "1D Array: [10 20 30]\n",
      "Result of Broadcasting and Adding:\n",
      " [[11 22 33]\n",
      " [14 25 36]\n",
      " [17 28 39]]\n"
     ]
    }
   ],
   "source": [
    "import numpy as np\n",
    "\n",
    "# Create a 3x3 matrix with random integers between 1 and 10\n",
    "matrix = np.random.randint(1, 11, (3, 3))\n",
    "print(\"3x3 Matrix:\\n\", matrix)\n",
    "\n",
    "# Extract the diagonal elements\n",
    "diagonal = np.diag(matrix)\n",
    "print(\"Diagonal Elements:\", diagonal)\n",
    "\n",
    "# Find the mean of each row\n",
    "row_means = np.mean(matrix, axis=1)\n",
    "print(\"Mean of Each Row:\", row_means)\n",
    "\n",
    "\n",
    "# Create a 4x4 matrix with random integers between 1 and 20\n",
    "matrix_4x4 = np.random.randint(1, 21, (4, 4))\n",
    "print(\"Original 4x4 Matrix:\\n\", matrix_4x4)\n",
    "\n",
    "# Calculate the mean and standard deviation of the entire matrix\n",
    "mean = np.mean(matrix_4x4)\n",
    "std_dev = np.std(matrix_4x4)\n",
    "\n",
    "# Normalize the matrix\n",
    "normalized_matrix = (matrix_4x4 - mean) / std_dev\n",
    "print(\"Normalized 4x4 Matrix:\\n\", normalized_matrix)\n",
    "\n",
    "\n",
    "# Create a 2D array of shape 3x3\n",
    "matrix_2D = np.array([[1, 2, 3],\n",
    "                      [4, 5, 6],\n",
    "                      [7, 8, 9]])\n",
    "print(\"2D Array (3x3):\\n\", matrix_2D)\n",
    "\n",
    "# Create a 1D array of shape (3,)\n",
    "array_1D = np.array([10, 20, 30])\n",
    "print(\"1D Array:\", array_1D)\n",
    "\n",
    "# Broadcast and add the 1D array to the 2D array\n",
    "broadcasted_sum = matrix_2D + array_1D\n",
    "print(\"Result of Broadcasting and Adding:\\n\", broadcasted_sum)\n"
   ]
  },
  {
   "cell_type": "markdown",
   "metadata": {},
   "source": []
  }
 ],
 "metadata": {
  "kernelspec": {
   "display_name": "base",
   "language": "python",
   "name": "python3"
  },
  "language_info": {
   "codemirror_mode": {
    "name": "ipython",
    "version": 3
   },
   "file_extension": ".py",
   "mimetype": "text/x-python",
   "name": "python",
   "nbconvert_exporter": "python",
   "pygments_lexer": "ipython3",
   "version": "3.9.7"
  },
  "orig_nbformat": 4,
  "vscode": {
   "interpreter": {
    "hash": "6372d7ad47f84b464200499bc385a17623e37f47f3337789c13d7b5c6e0e767e"
   }
  }
 },
 "nbformat": 4,
 "nbformat_minor": 2
}
