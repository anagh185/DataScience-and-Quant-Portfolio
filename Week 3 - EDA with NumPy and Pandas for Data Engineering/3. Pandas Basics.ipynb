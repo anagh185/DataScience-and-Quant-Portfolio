{
 "cells": [
  {
   "attachments": {},
   "cell_type": "markdown",
   "metadata": {},
   "source": [
    "DataFrame and Series Creation\n",
    "\n",
    "1. DataFrame and Series Basics\n",
    "\n",
    "Series: A one-dimensional labeled array capable of holding any data type.\n",
    "\n",
    "DataFrame: A two-dimensional labeled data structure, similar to a table."
   ]
  },
  {
   "attachments": {},
   "cell_type": "markdown",
   "metadata": {},
   "source": [
    "4. Handling Missing Values\n",
    "\n",
    "fillna(): Replace missing values with a specific value or method (e.g., mean).\n",
    "\n",
    "dropna(): Remove rows/columns with missing values."
   ]
  },
  {
   "attachments": {},
   "cell_type": "markdown",
   "metadata": {},
   "source": [
    "5. Type Conversions\n",
    "\n",
    "Convert columns to appropriate data types for better analysis.\n",
    "\n"
   ]
  },
  {
   "cell_type": "markdown",
   "metadata": {},
   "source": [
    "6. Renaming Columns\n",
    "\n",
    "Rename columns for better readability."
   ]
  },
  {
   "attachments": {},
   "cell_type": "markdown",
   "metadata": {},
   "source": [
    "Apply Cleaning Techniques on a Messy Dataset\n"
   ]
  },
  {
   "cell_type": "code",
   "execution_count": 107,
   "metadata": {},
   "outputs": [
    {
     "name": "stdout",
     "output_type": "stream",
     "text": [
      "Original Data:\n",
      "    Employee_ID     Name   AGE   Salary  Unnamed: 4  Unnamed: 5  Unnamed: 6  \\\n",
      "0          1.0    Alice  25.0  50000.0         NaN         NaN         NaN   \n",
      "1          2.0      Bob   NaN  60000.0         NaN         NaN         NaN   \n",
      "2          3.0  Charlie  35.0      NaN         NaN         NaN         NaN   \n",
      "3          NaN    David  40.0  70000.0         NaN         NaN         NaN   \n",
      "\n",
      "   Location  \n",
      "0       NaN  \n",
      "1       NaN  \n",
      "2  New York  \n",
      "3       NaN  \n"
     ]
    }
   ],
   "source": [
    "# Load and Explore Data\n",
    "import pandas as pd\n",
    "df = pd.read_csv('data/employees.csv', skipinitialspace=True)  # Load dataset\n",
    "print(\"Original Data:\\n\", df)\n"
   ]
  },
  {
   "cell_type": "code",
   "execution_count": 110,
   "metadata": {},
   "outputs": [
    {
     "name": "stdout",
     "output_type": "stream",
     "text": [
      "Index(['Employee_ID', 'Name', 'AGE', 'Salary', 'Unnamed: 4', 'Unnamed: 5',\n",
      "       'Unnamed: 6', 'Location'],\n",
      "      dtype='object')\n"
     ]
    }
   ],
   "source": [
    "print(df.columns)\n"
   ]
  },
  {
   "cell_type": "code",
   "execution_count": 112,
   "metadata": {},
   "outputs": [
    {
     "name": "stdout",
     "output_type": "stream",
     "text": [
      "\n",
      "Data After Dropping Columns:\n",
      "    Employee_ID     Name        AGE   Salary  Location\n",
      "0          1.0    Alice  25.000000  50000.0       NaN\n",
      "1          2.0      Bob  33.333333  60000.0       NaN\n",
      "2          3.0  Charlie  35.000000      NaN  New York\n"
     ]
    }
   ],
   "source": [
    "# Handle Missing Values\n",
    "# Fill missing Age with the mean\n",
    "df['AGE'].fillna(df['AGE'].mean(), inplace=True)\n",
    "\n",
    "# Drop rows where 'Name' or 'Employee_ID' is missing\n",
    "df.dropna(subset=['Name', 'Employee_ID'], inplace=True)\n",
    "\n",
    "# Drop empty columns\n",
    "df.dropna(how='all', axis=1, inplace=True)\n",
    "print(\"\\nData After Dropping Columns:\\n\", df)\n",
    "\n",
    "# Rename Columns\n",
    "df.rename(columns={'Salary': 'Monthly Salary'}, inplace=True)\n",
    "\n",
    "\n",
    "\n"
   ]
  },
  {
   "cell_type": "code",
   "execution_count": 114,
   "metadata": {},
   "outputs": [
    {
     "data": {
      "image/png": "[encoded data removed]",
      "text/plain": [
       "<Figure size 432x288 with 1 Axes>"
      ]
     },
     "metadata": {
      "needs_background": "light"
     },
     "output_type": "display_data"
    }
   ],
   "source": [
    "# Visualize Trends Use visualization to analyze trends:\n",
    "import matplotlib.pyplot as plt\n",
    "\n",
    "# Plot Salary Distribution\n",
    "plt.hist(df['Monthly Salary'], bins=5, color='blue', alpha=0.7)\n",
    "plt.title('Salary Distribution')\n",
    "plt.xlabel('Salary')\n",
    "plt.ylabel('Frequency')\n",
    "plt.show()"
   ]
  },
  {
   "cell_type": "code",
   "execution_count": null,
   "metadata": {},
   "outputs": [],
   "source": []
  }
 ],
 "metadata": {
  "kernelspec": {
   "display_name": "base",
   "language": "python",
   "name": "python3"
  },
  "language_info": {
   "codemirror_mode": {
    "name": "ipython",
    "version": 3
   },
   "file_extension": ".py",
   "mimetype": "text/x-python",
   "name": "python",
   "nbconvert_exporter": "python",
   "pygments_lexer": "ipython3",
   "version": "3.9.7"
  },
  "orig_nbformat": 4,
  "vscode": {
   "interpreter": {
    "hash": "6372d7ad47f84b464200499bc385a17623e37f47f3337789c13d7b5c6e0e767e"
   }
  }
 },
 "nbformat": 4,
 "nbformat_minor": 2
}
