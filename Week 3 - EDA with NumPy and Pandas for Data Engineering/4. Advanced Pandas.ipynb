{
 "cells": [
  {
   "attachments": {},
   "cell_type": "markdown",
   "metadata": {},
   "source": [
    "Merging Datasets\n",
    "\n",
    "The merge() function combines datasets based on common columns or indices, similar to SQL joins."
   ]
  },
  {
   "cell_type": "code",
   "execution_count": 1,
   "metadata": {},
   "outputs": [
    {
     "name": "stdout",
     "output_type": "stream",
     "text": [
      "Merged Dataset:\n",
      "    ID     Name  Score\n",
      "0   2      Bob     85\n",
      "1   3  Charlie     90\n"
     ]
    }
   ],
   "source": [
    "import pandas as pd\n",
    "\n",
    "# Create two datasets\n",
    "df1 = pd.DataFrame({'ID': [1, 2, 3], 'Name': ['Alice', 'Bob', 'Charlie']})\n",
    "df2 = pd.DataFrame({'ID': [2, 3, 4], 'Score': [85, 90, 95]})\n",
    "\n",
    "# Perform an inner merge\n",
    "merged = pd.merge(df1, df2, on='ID', how='inner')\n",
    "print(\"Merged Dataset:\\n\", merged)\n"
   ]
  },
  {
   "attachments": {},
   "cell_type": "markdown",
   "metadata": {},
   "source": [
    "Concatenating Datasets\n",
    "\n",
    "The concat() function stacks datasets vertically (row-wise) or horizontally (column-wise)."
   ]
  },
  {
   "cell_type": "code",
   "execution_count": 2,
   "metadata": {},
   "outputs": [
    {
     "name": "stdout",
     "output_type": "stream",
     "text": [
      "Concatenated Dataset:\n",
      "    ID     Name\n",
      "0   1    Alice\n",
      "1   2      Bob\n",
      "2   3  Charlie\n",
      "0   5    David\n",
      "1   6      Eva\n"
     ]
    }
   ],
   "source": [
    "# Concatenate row-wise\n",
    "df3 = pd.DataFrame({'ID': [5, 6], 'Name': ['David', 'Eva']})\n",
    "concatenated = pd.concat([df1, df3], axis=0)\n",
    "print(\"Concatenated Dataset:\\n\", concatenated)\n"
   ]
  },
  {
   "attachments": {},
   "cell_type": "markdown",
   "metadata": {},
   "source": [
    "Reshaping with Pivot Tables\n",
    "\n",
    "pivot_table() reshapes data by aggregating values.\n"
   ]
  },
  {
   "cell_type": "code",
   "execution_count": 3,
   "metadata": {},
   "outputs": [
    {
     "name": "stdout",
     "output_type": "stream",
     "text": [
      "Pivot Table:\n",
      " Product       A    B\n",
      "Date                \n",
      "2023-01-01  100  200\n",
      "2023-01-02  150  250\n"
     ]
    }
   ],
   "source": [
    "sales_data = pd.DataFrame({\n",
    "    'Date': ['2023-01-01', '2023-01-01', '2023-01-02', '2023-01-02'],\n",
    "    'Product': ['A', 'B', 'A', 'B'],\n",
    "    'Sales': [100, 200, 150, 250]\n",
    "})\n",
    "\n",
    "# Create a pivot table to aggregate sales by date and product\n",
    "pivot = sales_data.pivot_table(values='Sales', index='Date', columns='Product', aggfunc='sum')\n",
    "print(\"Pivot Table:\\n\", pivot)\n"
   ]
  },
  {
   "attachments": {},
   "cell_type": "markdown",
   "metadata": {},
   "source": [
    "Time-Series Handling\n",
    "\n",
    "Convert date columns to datetime objects for easier manipulation.\n",
    "\n",
    "Perform operations like resampling or extracting specific time units."
   ]
  },
  {
   "cell_type": "code",
   "execution_count": 4,
   "metadata": {},
   "outputs": [
    {
     "name": "stdout",
     "output_type": "stream",
     "text": [
      "Time-Series Data:\n",
      "         Date Product  Sales  Year  Month\n",
      "0 2023-01-01       A    100  2023      1\n",
      "1 2023-01-01       B    200  2023      1\n",
      "2 2023-01-02       A    150  2023      1\n",
      "3 2023-01-02       B    250  2023      1\n"
     ]
    }
   ],
   "source": [
    "# Convert to datetime\n",
    "sales_data['Date'] = pd.to_datetime(sales_data['Date'])\n",
    "\n",
    "# Extract year and month\n",
    "sales_data['Year'] = sales_data['Date'].dt.year\n",
    "sales_data['Month'] = sales_data['Date'].dt.month\n",
    "print(\"Time-Series Data:\\n\", sales_data)\n"
   ]
  },
  {
   "attachments": {},
   "cell_type": "markdown",
   "metadata": {},
   "source": [
    "Group-by Operations\n",
    "\n",
    "Group data by one or more columns and apply aggregations."
   ]
  },
  {
   "cell_type": "code",
   "execution_count": 5,
   "metadata": {},
   "outputs": [
    {
     "name": "stdout",
     "output_type": "stream",
     "text": [
      "Total Sales by Product:\n",
      " Product\n",
      "A    250\n",
      "B    450\n",
      "Name: Sales, dtype: int64\n"
     ]
    }
   ],
   "source": [
    "# Group by product and calculate total sales\n",
    "grouped = sales_data.groupby('Product')['Sales'].sum()\n",
    "print(\"Total Sales by Product:\\n\", grouped)\n"
   ]
  },
  {
   "attachments": {},
   "cell_type": "markdown",
   "metadata": {},
   "source": [
    "\n",
    "# Real-World Dataset Practice\n",
    "\n",
    "Dataset: Time-Series Sales Trends\n",
    "\n",
    "Objective: Analyze sales trends for products over time.\n",
    "\n",
    "Steps:\n",
    "\n",
    "\n",
    "1. Load a time-series dataset (or create one).\n",
    "\n",
    "2. Clean and preprocess the data.\n",
    "\n",
    "3. Group by date and product to analyze trends.\n",
    "\n",
    "4. Resample or aggregate data for monthly trends.\n",
    "\n",
    "5. Visualize the results."
   ]
  },
  {
   "cell_type": "code",
   "execution_count": 6,
   "metadata": {},
   "outputs": [
    {
     "name": "stdout",
     "output_type": "stream",
     "text": [
      "Quarterly Sales:\n",
      "             Sales\n",
      "Date             \n",
      "2023-03-31    450\n",
      "2023-06-30    900\n",
      "2023-09-30   1350\n",
      "2023-12-31   1800\n"
     ]
    },
    {
     "data": {
      "image/png": "[encoded data removed]",
      "text/plain": [
       "<Figure size 432x288 with 1 Axes>"
      ]
     },
     "metadata": {
      "needs_background": "light"
     },
     "output_type": "display_data"
    }
   ],
   "source": [
    "# Sample time-series sales dataset\n",
    "time_series_data = pd.DataFrame({\n",
    "    'Date': pd.date_range(start='2023-01-01', periods=12, freq='M'),\n",
    "    'Product': ['A'] * 6 + ['B'] * 6,\n",
    "    'Sales': [100, 150, 200, 250, 300, 350, 400, 450, 500, 550, 600, 650]\n",
    "})\n",
    "\n",
    "# Convert to datetime and set index\n",
    "time_series_data['Date'] = pd.to_datetime(time_series_data['Date'])\n",
    "time_series_data.set_index('Date', inplace=True)\n",
    "\n",
    "# Resample to quarterly sales\n",
    "quarterly_sales = time_series_data.resample('Q').sum()\n",
    "print(\"Quarterly Sales:\\n\", quarterly_sales)\n",
    "\n",
    "# Plot the trends\n",
    "import matplotlib.pyplot as plt\n",
    "\n",
    "time_series_data['Sales'].plot(title='Monthly Sales Trends', marker='o')\n",
    "plt.xlabel('Date')\n",
    "plt.ylabel('Sales')\n",
    "plt.show()\n"
   ]
  }
 ],
 "metadata": {
  "kernelspec": {
   "display_name": "base",
   "language": "python",
   "name": "python3"
  },
  "language_info": {
   "codemirror_mode": {
    "name": "ipython",
    "version": 3
   },
   "file_extension": ".py",
   "mimetype": "text/x-python",
   "name": "python",
   "nbconvert_exporter": "python",
   "pygments_lexer": "ipython3",
   "version": "3.9.7"
  },
  "orig_nbformat": 4,
  "vscode": {
   "interpreter": {
    "hash": "6372d7ad47f84b464200499bc385a17623e37f47f3337789c13d7b5c6e0e767e"
   }
  }
 },
 "nbformat": 4,
 "nbformat_minor": 2
}
