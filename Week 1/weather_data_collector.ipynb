{
 "cells": [
  {
   "cell_type": "code",
   "execution_count": 88,
   "metadata": {},
   "outputs": [],
   "source": [
    "### **2. Import Libraries**\n",
    "import requests\n",
    "import pandas as pd\n",
    "import json\n",
    "from datetime import datetime\n"
   ]
  },
  {
   "cell_type": "code",
   "execution_count": 89,
   "metadata": {},
   "outputs": [],
   "source": [
    "### **3. Define API Configuration**\n",
    "\n",
    "# API Key and Base URL\n",
    "API_KEY = \"f4bb830e69bbcd8b0b974c6d8fb0f5dd\"\n",
    "BASE_URL = \"https://api.openweathermap.org/data/2.5/weather\"\n"
   ]
  },
  {
   "cell_type": "code",
   "execution_count": 90,
   "metadata": {},
   "outputs": [],
   "source": [
    "### **4. Create a Function to Fetch Weather Data**\n",
    "\n",
    "def get_weather_data(city):\n",
    "    \"\"\"\n",
    "    Fetch weather data for a specific city using OpenWeatherMap API.\n",
    "    \"\"\"\n",
    "    try:\n",
    "        params = {\n",
    "            'q': city,\n",
    "            'appid': API_KEY,\n",
    "            'units': 'metric'  # Use 'metric' for Celsius\n",
    "        }\n",
    "        response = requests.get(BASE_URL, params=params)\n",
    "        response.raise_for_status()  # Raise HTTPError for bad responses (4xx or 5xx)\n",
    "        return response.json()\n",
    "    except requests.exceptions.RequestException as e:\n",
    "        print(f\"Error fetching data for {city}: {e}\")\n",
    "        return None\n"
   ]
  },
  {
   "cell_type": "code",
   "execution_count": 91,
   "metadata": {},
   "outputs": [],
   "source": [
    "from datetime import datetime, timezone, timedelta\n",
    "\n",
    "### **5. Parse and Format Weather Data**\n",
    "def parse_weather_data(data):\n",
    "    \"\"\"\n",
    "    Parse relevant weather data from API response.\n",
    "    \"\"\"\n",
    "    if not data:\n",
    "        return None\n",
    "    \n",
    "    sunrise = (datetime.fromtimestamp(data['sys'].get('sunrise'), timezone.utc) + timedelta(hours=-5)).strftime('%I:%M %p')  # Adjust -5 for local timezone\n",
    "    sunset = (datetime.fromtimestamp(data['sys'].get('sunset'), timezone.utc) + timedelta(hours=-5)).strftime('%I:%M %p')\n",
    "\n",
    "    return {\n",
    "        'City': data.get('name'),\n",
    "        'Temperature (°C)': data['main'].get('temp'),\n",
    "        'Humidity (%)': data['main'].get('humidity'),\n",
    "        'Wind Speed (m/s)': data['wind'].get('speed'),\n",
    "        'Weather Description': data['weather'][0].get('description'),\n",
    "        'Date': datetime.now().strftime('%Y-%m-%d %H:%M:%S'),\n",
    "        'Feels Like' : data['main'].get('feels_like'),\n",
    "        'Sunrise': sunrise,\n",
    "        'Sunset': sunset\n",
    "        \n",
    "    }\n"
   ]
  },
  {
   "cell_type": "code",
   "execution_count": null,
   "metadata": {},
   "outputs": [],
   "source": []
  },
  {
   "cell_type": "code",
   "execution_count": 92,
   "metadata": {},
   "outputs": [],
   "source": [
    "### **6. Collect Data for Multiple Cities**\n",
    "\n",
    "def collect_weather_data(cities):\n",
    "    \"\"\"\n",
    "    Collect weather data for multiple cities and store it in a list.\n",
    "    \"\"\"\n",
    "    weather_data = []\n",
    "    for city in cities:\n",
    "        print(f\"Fetching weather data for {city}...\")\n",
    "        data = get_weather_data(city)\n",
    "        parsed_data = parse_weather_data(data)\n",
    "        if parsed_data:\n",
    "            weather_data.append(parsed_data)\n",
    "    return weather_data"
   ]
  },
  {
   "cell_type": "code",
   "execution_count": 93,
   "metadata": {},
   "outputs": [],
   "source": [
    "### **7. Save Weather Data to a File**\n",
    "def save_weather_data_to_csv(weather_data, filename='weather_data.csv'):\n",
    "    \"\"\"\n",
    "    Save collected weather data to a CSV file.\n",
    "    \"\"\"\n",
    "    df = pd.DataFrame(weather_data)\n",
    "    df.to_csv(filename, index=False)\n",
    "    print(f\"Weather data saved to {filename}.\")"
   ]
  },
  {
   "cell_type": "code",
   "execution_count": 94,
   "metadata": {},
   "outputs": [
    {
     "name": "stdout",
     "output_type": "stream",
     "text": [
      "Fetching weather data for New York...\n",
      "Fetching weather data for London...\n",
      "Fetching weather data for Paris...\n",
      "Fetching weather data for Tokyo...\n",
      "Fetching weather data for Mumbai...\n",
      "Fetching weather data for Richardson...\n",
      "Weather data saved to weather_data.csv.\n"
     ]
    }
   ],
   "source": [
    "if __name__ == \"__main__\":\n",
    "    # List of cities to fetch weather data for\n",
    "    cities = ['New York', 'London', 'Paris', 'Tokyo', 'Mumbai', 'Richardson']\n",
    "    \n",
    "    # Collect and save weather data\n",
    "    weather_data = collect_weather_data(cities)\n",
    "    if weather_data:\n",
    "        save_weather_data_to_csv(weather_data)"
   ]
  },
  {
   "cell_type": "code",
   "execution_count": null,
   "metadata": {},
   "outputs": [],
   "source": []
  }
 ],
 "metadata": {
  "kernelspec": {
   "display_name": "base",
   "language": "python",
   "name": "python3"
  },
  "language_info": {
   "codemirror_mode": {
    "name": "ipython",
    "version": 3
   },
   "file_extension": ".py",
   "mimetype": "text/x-python",
   "name": "python",
   "nbconvert_exporter": "python",
   "pygments_lexer": "ipython3",
   "version": "3.9.7"
  },
  "vscode": {
   "interpreter": {
    "hash": "6372d7ad47f84b464200499bc385a17623e37f47f3337789c13d7b5c6e0e767e"
   }
  }
 },
 "nbformat": 4,
 "nbformat_minor": 2
}
